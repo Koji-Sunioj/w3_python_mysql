{
 "cells": [
  {
   "cell_type": "code",
   "execution_count": 1,
   "metadata": {
    "ExecuteTime": {
     "end_time": "2021-01-31T15:33:34.958933Z",
     "start_time": "2021-01-31T15:33:34.252489Z"
    }
   },
   "outputs": [],
   "source": [
    "import pandas as pd\n",
    "import numpy as np\n",
    "\n",
    "from geopy.geocoders import Nominatim\n",
    "geolocator = Nominatim(user_agent=\"HIDDEN\",timeout=200)\n",
    "\n",
    "import pymysql\n",
    "\n",
    "con = pymysql.connect('localhost', 'root', 'HIDDEN', 'HIDDEN')"
   ]
  },
  {
   "cell_type": "markdown",
   "metadata": {},
   "source": [
    "<strong>This is the Jupyter Notebook file for querying the customer's unique city and country names from MySQL, then passing those values to GeoPy for parsing the latitude and longitude values. After the values are stored, it is then inserted into the database called \"city_points\" a long with the city names. GeoPy needs a combination of city and country to obtain geographic data.</strong>"
   ]
  },
  {
   "cell_type": "code",
   "execution_count": 2,
   "metadata": {
    "ExecuteTime": {
     "end_time": "2021-01-31T15:33:36.338689Z",
     "start_time": "2021-01-31T15:33:36.332129Z"
    }
   },
   "outputs": [],
   "source": [
    "def select_main():\n",
    "    '''\n",
    "    Returns a Dataframe containing unique city and country from the customer's table.\n",
    "    \n",
    "    Parameters: \n",
    "        None passed to function.\n",
    "    \n",
    "    Returns:\n",
    "        Pandas DataFrame containing:\n",
    "        RangeIndex: 69 entries, 0 to 68\n",
    "        Data columns (total 2 columns):\n",
    "         #   Column   Non-Null Count  Dtype \n",
    "        ---  ------   --------------  ----- \n",
    "         0   city     69 non-null     object\n",
    "         1   country  69 non-null     object\n",
    "        dtypes: object(2)\n",
    "    '''\n",
    "    #connect to db, select values, pass to variable and close\n",
    "    con.connect()\n",
    "    select = con.cursor()\n",
    "    statement = 'select distinct city,country from customers;'\n",
    "    select.execute(statement)\n",
    "    data = select.fetchall()\n",
    "    con.commit()\n",
    "    \n",
    "    #pass to DataFrame method with columns, return the value\n",
    "    cities = pd.DataFrame(data).rename({0:'city',1:'country'},axis=1)\n",
    "    \n",
    "    return cities"
   ]
  },
  {
   "cell_type": "code",
   "execution_count": 3,
   "metadata": {
    "ExecuteTime": {
     "end_time": "2021-01-31T15:33:37.296792Z",
     "start_time": "2021-01-31T15:33:37.243568Z"
    }
   },
   "outputs": [],
   "source": [
    "#load into memory\n",
    "cities = select_main()"
   ]
  },
  {
   "cell_type": "code",
   "execution_count": 4,
   "metadata": {
    "ExecuteTime": {
     "end_time": "2021-01-31T15:33:40.605400Z",
     "start_time": "2021-01-31T15:33:40.596874Z"
    }
   },
   "outputs": [],
   "source": [
    "def get_points(cities):\n",
    "    '''\n",
    "    Returns a Dataframe containing containing city, country a long with latitude/longitude from GeoPy.\n",
    "    \n",
    "    Parameters: \n",
    "        DataFrame (total 2 columns)\n",
    "    \n",
    "    Returns:\n",
    "        Pandas DataFrame containing:\n",
    "        RangeIndex: 69 entries, 0 to 68\n",
    "        Data columns (total 4 columns):\n",
    "         #   Column     Non-Null Count  Dtype  \n",
    "        ---  ------     --------------  -----  \n",
    "         0   city       69 non-null     object \n",
    "         1   country    69 non-null     object \n",
    "         2   latitude   69 non-null     float64\n",
    "         3   longitude  69 non-null     float64\n",
    "        dtypes: float64(2), object(2)\n",
    "    '''\n",
    "    #two lists, pass country+city into one variable. pass to GeoPy method, append values to lists.\n",
    "    lat = []\n",
    "    lon = []\n",
    "\n",
    "    for city, country in cities.values:\n",
    "        string = city +', '+ country\n",
    "        coords = geolocator.geocode(string, language='en')\n",
    "        lat.append(coords.latitude)\n",
    "        lon.append(coords.longitude)\n",
    "    \n",
    "    #assign to columns\n",
    "    cities['latitude'] = lat\n",
    "    cities['longitude'] = lon\n",
    "    \n",
    "    #return the Dataframe with new columns\n",
    "    return cities"
   ]
  },
  {
   "cell_type": "code",
   "execution_count": 5,
   "metadata": {
    "ExecuteTime": {
     "end_time": "2021-01-31T15:34:22.927579Z",
     "start_time": "2021-01-31T15:33:48.436253Z"
    }
   },
   "outputs": [],
   "source": [
    "#new DataFrame with geographic attributes, might take a minute or two\n",
    "with_points = get_points(cities)"
   ]
  },
  {
   "cell_type": "code",
   "execution_count": 9,
   "metadata": {
    "ExecuteTime": {
     "end_time": "2021-01-08T21:38:32.007720Z",
     "start_time": "2021-01-08T21:38:32.002804Z"
    }
   },
   "outputs": [],
   "source": [
    "#load into the customly created city_points table, linked to the customer table in the schema. commit the insert\n",
    "def insert_points(with_points):\n",
    "    '''\n",
    "    Accepts the DataFrame with city, latitude and longitude to insert the values into the mysql table.\n",
    "    \n",
    "    Parameters: \n",
    "        DataFrame (total 4 columns)\n",
    "    \n",
    "    Returns:\n",
    "        None\n",
    "    '''\n",
    "    #connect to db\n",
    "    con.connect()\n",
    "    insert_main = con.cursor()\n",
    "\n",
    "    #cycle through values and insert them\n",
    "    for row in with_points[['city','latitude','longitude']].values:\n",
    "        insert_main.callproc('w3_insert_points',(row[0],row[1],row[2]))\n",
    "\n",
    "    #commit the insertion\n",
    "    con.commit()"
   ]
  },
  {
   "cell_type": "code",
   "execution_count": 10,
   "metadata": {
    "ExecuteTime": {
     "end_time": "2021-01-08T21:38:32.506674Z",
     "start_time": "2021-01-08T21:38:32.433288Z"
    }
   },
   "outputs": [],
   "source": [
    "#insert values in DataFrame to db\n",
    "insert_points(with_points)"
   ]
  }
 ],
 "metadata": {
  "kernelspec": {
   "display_name": "Python 3",
   "language": "python",
   "name": "python3"
  },
  "language_info": {
   "codemirror_mode": {
    "name": "ipython",
    "version": 3
   },
   "file_extension": ".py",
   "mimetype": "text/x-python",
   "name": "python",
   "nbconvert_exporter": "python",
   "pygments_lexer": "ipython3",
   "version": "3.6.9"
  }
 },
 "nbformat": 4,
 "nbformat_minor": 2
}
