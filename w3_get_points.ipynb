{
 "cells": [
  {
   "cell_type": "code",
   "execution_count": 1,
   "metadata": {
    "ExecuteTime": {
     "end_time": "2021-01-08T21:35:46.953306Z",
     "start_time": "2021-01-08T21:35:46.135754Z"
    }
   },
   "outputs": [],
   "source": [
    "import pandas as pd\n",
    "import numpy as np\n",
    "\n",
    "from geopy.geocoders import Nominatim\n",
    "geolocator = Nominatim(user_agent=\"new_access_ctrl_v2\",timeout=200)\n",
    "\n",
    "import pymysql\n",
    "\n",
    "con = pymysql.connect('localhost', 'root', 'HIDDEN', 'HIDDEN')"
   ]
  },
  {
   "cell_type": "code",
   "execution_count": 2,
   "metadata": {
    "ExecuteTime": {
     "end_time": "2021-01-08T21:35:46.962691Z",
     "start_time": "2021-01-08T21:35:46.954817Z"
    }
   },
   "outputs": [],
   "source": [
    "#fetch the cities tables from the w3 databases\n",
    "def select_main():\n",
    "    con.connect()\n",
    "    select = con.cursor()\n",
    "    statement = 'select distinct city,country from customers;'\n",
    "    select.execute(statement)\n",
    "    data = select.fetchall()\n",
    "    con.commit()\n",
    "    \n",
    "    cities = pd.DataFrame(data).rename({0:'city',1:'country'},axis=1)\n",
    "    \n",
    "    return cities"
   ]
  },
  {
   "cell_type": "code",
   "execution_count": 3,
   "metadata": {
    "ExecuteTime": {
     "end_time": "2021-01-08T21:35:49.128853Z",
     "start_time": "2021-01-08T21:35:49.100912Z"
    }
   },
   "outputs": [],
   "source": [
    "#load into memory\n",
    "cities = select_main()"
   ]
  },
  {
   "cell_type": "code",
   "execution_count": 4,
   "metadata": {
    "ExecuteTime": {
     "end_time": "2021-01-08T21:35:49.605644Z",
     "start_time": "2021-01-08T21:35:49.597501Z"
    }
   },
   "outputs": [],
   "source": [
    "#append the latitude, longitude into lists, merge them into the DataFrame, and return it\n",
    "def get_points(cities):\n",
    "    \n",
    "    lat = []\n",
    "    lon = []\n",
    "\n",
    "    for city, country in cities.values:\n",
    "        string = city +', '+ country\n",
    "        coords = geolocator.geocode(string, language='en')\n",
    "        lat.append(coords.latitude)\n",
    "        lon.append(coords.longitude)\n",
    "    \n",
    "    cities['latitude'] = lat\n",
    "    cities['longitude'] = lon\n",
    "    \n",
    "        \n",
    "    return cities"
   ]
  },
  {
   "cell_type": "code",
   "execution_count": 5,
   "metadata": {
    "ExecuteTime": {
     "end_time": "2021-01-08T21:36:27.552262Z",
     "start_time": "2021-01-08T21:35:52.973417Z"
    }
   },
   "outputs": [],
   "source": [
    "#new DataFrame with geographic attributes, might take a minute or two\n",
    "with_points = get_points(cities)"
   ]
  },
  {
   "cell_type": "code",
   "execution_count": 9,
   "metadata": {
    "ExecuteTime": {
     "end_time": "2021-01-08T21:38:32.007720Z",
     "start_time": "2021-01-08T21:38:32.002804Z"
    }
   },
   "outputs": [],
   "source": [
    "#load into the customly created city_points table, linked to the customer table in the schema. commit the insert\n",
    "def insert_points(with_points):\n",
    "    con.connect()\n",
    "    insert_main = con.cursor()\n",
    "\n",
    "    for row in with_points[['city','latitude','longitude']].values:\n",
    "        insert_main.callproc('w3_insert_points',(row[0],row[1],row[2]))\n",
    "\n",
    "    con.commit()"
   ]
  },
  {
   "cell_type": "code",
   "execution_count": 10,
   "metadata": {
    "ExecuteTime": {
     "end_time": "2021-01-08T21:38:32.506674Z",
     "start_time": "2021-01-08T21:38:32.433288Z"
    }
   },
   "outputs": [],
   "source": [
    "#\n",
    "insert_points(with_points)"
   ]
  },
  {
   "cell_type": "code",
   "execution_count": null,
   "metadata": {},
   "outputs": [],
   "source": []
  }
 ],
 "metadata": {
  "kernelspec": {
   "display_name": "Python 3",
   "language": "python",
   "name": "python3"
  },
  "language_info": {
   "codemirror_mode": {
    "name": "ipython",
    "version": 3
   },
   "file_extension": ".py",
   "mimetype": "text/x-python",
   "name": "python",
   "nbconvert_exporter": "python",
   "pygments_lexer": "ipython3",
   "version": "3.6.9"
  }
 },
 "nbformat": 4,
 "nbformat_minor": 2
}
